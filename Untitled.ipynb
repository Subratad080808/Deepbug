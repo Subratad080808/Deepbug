{
 "cells": [
  {
   "cell_type": "markdown",
   "id": "6f9e97b1",
   "metadata": {},
   "source": [
    "Starts at 5.55 pm"
   ]
  },
  {
   "cell_type": "code",
   "execution_count": null,
   "id": "fb30a62a",
   "metadata": {
    "scrolled": true
   },
   "outputs": [],
   "source": [
    "import tokenize\n",
    "import gensim\n",
    "import pandas as pd\n",
    "import ast\n",
    "import astor\n",
    "import pandas as pd\n",
    "import os\n",
    "from nltk.tokenize import sent_tokenize, word_tokenize\n",
    "import warnings\n",
    "import re\n",
    "c=0\n",
    "def flatten(input):\n",
    "    new_list = []\n",
    "    for i in input:\n",
    "        for j in i:\n",
    "            \n",
    "            new_list.append(j)\n",
    "            \n",
    "    return new_list\n",
    "\n",
    "def token_create(code):\n",
    "    f = code.replace(\"\\n\", \" \")\n",
    "\n",
    "    data = []\n",
    "    \n",
    "    # iterate through each sentence in the file\n",
    "    for i in sent_tokenize(f):\n",
    "        temp = []\n",
    "\n",
    "        # tokenize the sentence into words\n",
    "        for j in word_tokenize(i):\n",
    "            temp.append(j.lower())\n",
    "\n",
    "        data.append(temp)\n",
    "        type(data)\n",
    "    return data \n",
    "\n",
    "prt=[]\n",
    "oxc=[]\n",
    "df1 = pd.DataFrame()\n",
    "df2 = pd.DataFrame()\n",
    "r=[]\n",
    "import os\n",
    "\n",
    "path ='D:\\Testing'\n",
    "\n",
    "\n",
    "for root, directories, files in os.walk(path, topdown=False):\n",
    "    for name in files:\n",
    "        file_path =  (os.path.join(root, name))\n",
    "#         print(\"..........................................\"+file_path)\n",
    "        file_name = file_path\n",
    "        \n",
    "        with open(file_name, 'rb') as f:\n",
    "            tokens = tokenize.tokenize(f.readline)\n",
    "            for token in tokens:\n",
    "            #print(token)\n",
    "            #print(token.type)\n",
    "            #print(type(token.type))\n",
    "                if token.type== 1:\n",
    "                    #print(token.string)\n",
    "                    r=token.string\n",
    "\n",
    "        #         print(\"line\")\n",
    "        #         print(type(token.line))\n",
    "                yp=token.line\n",
    "                idpr=token_create(yp)\n",
    "                data = []\n",
    "                df2 = {\"StingId\":r,\n",
    "                        \"line\":idpr,\n",
    "                       \"WITHOUT\":yp\n",
    "\n",
    "                    }\n",
    "\n",
    "\n",
    "        #                             print(\"////////////////////////////////\")\n",
    "                #print(Arg_list)\n",
    "                data.append(df2)\n",
    "\n",
    "                df1 = df1.append(data, True)\n",
    "                \n",
    "        f.close()\n",
    "        c=c+1\n",
    "        print(\"file Done\",+c)"
   ]
  },
  {
   "cell_type": "code",
   "execution_count": null,
   "id": "6851ef50",
   "metadata": {},
   "outputs": [],
   "source": [
    "df1"
   ]
  },
  {
   "cell_type": "code",
   "execution_count": null,
   "id": "9f8d9b37",
   "metadata": {},
   "outputs": [],
   "source": [
    "df1.to_csv (r'output_1500files.csv', index = None, header=True)"
   ]
  },
  {
   "cell_type": "code",
   "execution_count": null,
   "id": "9531a414",
   "metadata": {},
   "outputs": [],
   "source": [
    "df1['line1']=df1['line'].apply(flatten)"
   ]
  },
  {
   "cell_type": "code",
   "execution_count": null,
   "id": "2209e45b",
   "metadata": {
    "scrolled": false
   },
   "outputs": [],
   "source": [
    "df1"
   ]
  },
  {
   "cell_type": "code",
   "execution_count": null,
   "id": "d4caee75",
   "metadata": {},
   "outputs": [],
   "source": [
    "model = gensim.models.Word2Vec(\n",
    "    window=5,\n",
    "    min_count=2,\n",
    "    workers=4,\n",
    ")\n",
    "model.build_vocab(df1['line1'], progress_per=1000)\n",
    "model.train(df1['line1'],total_examples=model.corpus_count, epochs=model.epochs)"
   ]
  },
  {
   "cell_type": "code",
   "execution_count": null,
   "id": "a9706ca4",
   "metadata": {},
   "outputs": [],
   "source": [
    "vocab=list(model.wv.key_to_index.keys())\n",
    "\n"
   ]
  },
  {
   "cell_type": "code",
   "execution_count": null,
   "id": "92a0b332",
   "metadata": {},
   "outputs": [],
   "source": [
    "vocab"
   ]
  },
  {
   "cell_type": "code",
   "execution_count": null,
   "id": "8a82f9f8",
   "metadata": {},
   "outputs": [],
   "source": [
    "def get_vec(xp):\n",
    "    for x in xp:\n",
    "        normed_vector = model.wv.get_vector(x, norm=True)\n",
    "        print(\"Process name:\"+x)\n",
    "        print(normed_vector)"
   ]
  },
  {
   "cell_type": "code",
   "execution_count": null,
   "id": "cbdaeba4",
   "metadata": {},
   "outputs": [],
   "source": [
    "get_vec(vocab)"
   ]
  },
  {
   "cell_type": "code",
   "execution_count": null,
   "id": "610b13d2",
   "metadata": {},
   "outputs": [],
   "source": [
    "vocab"
   ]
  },
  {
   "cell_type": "code",
   "execution_count": null,
   "id": "e23827d3",
   "metadata": {},
   "outputs": [],
   "source": [
    "xpp=model.wv.get_vector('sw')"
   ]
  },
  {
   "cell_type": "code",
   "execution_count": null,
   "id": "9fb181da",
   "metadata": {
    "scrolled": true
   },
   "outputs": [],
   "source": [
    "model.save(\"word2vec.model\")"
   ]
  },
  {
   "cell_type": "code",
   "execution_count": null,
   "id": "46077299",
   "metadata": {},
   "outputs": [],
   "source": [
    "xpp"
   ]
  },
  {
   "cell_type": "code",
   "execution_count": null,
   "id": "7380d755",
   "metadata": {},
   "outputs": [],
   "source": []
  }
 ],
 "metadata": {
  "kernelspec": {
   "display_name": "Python 3 (ipykernel)",
   "language": "python",
   "name": "python3"
  },
  "language_info": {
   "codemirror_mode": {
    "name": "ipython",
    "version": 3
   },
   "file_extension": ".py",
   "mimetype": "text/x-python",
   "name": "python",
   "nbconvert_exporter": "python",
   "pygments_lexer": "ipython3",
   "version": "3.9.7"
  }
 },
 "nbformat": 4,
 "nbformat_minor": 5
}
