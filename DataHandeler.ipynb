{
 "cells": [
  {
   "cell_type": "code",
   "execution_count": null,
   "id": "634a5c54",
   "metadata": {},
   "outputs": [],
   "source": [
    "import pandas as pd\n",
    "work1=pd.read_csv('Text/Work_extract1.csv')\n",
    "work2=pd.read_csv('Text/Work_extract2.csv')\n",
    "work3=pd.read_csv('Text/Work_extract3.csv')\n",
    "work4=pd.read_csv('Text/Work_extract4.csv')\n",
    "work5=pd.read_csv('Text/Work_extract5.csv')\n",
    "work6=pd.read_csv('Text/Work_extract6.csv')\n",
    "work7=pd.read_csv('Text/Work_extract7.csv')\n",
    "work8=pd.read_csv('Text/Work_extract8.csv')\n",
    "work9=pd.read_csv('Text/Work_extract9.csv')\n",
    "work10=pd.read_csv('Text/Work_extract10.csv')\n",
    "work12=pd.read_csv('Text/Work_extract10.csv')\n",
    "work13=pd.read_csv('Text/Work_extract13.csv')\n",
    "\n",
    "\n",
    "\n"
   ]
  },
  {
   "cell_type": "code",
   "execution_count": null,
   "id": "7564fa35",
   "metadata": {},
   "outputs": [],
   "source": [
    "work1['M_D_Arg'].str.contains('self')\n",
    "    "
   ]
  },
  {
   "cell_type": "code",
   "execution_count": null,
   "id": "62a81a9d",
   "metadata": {},
   "outputs": [],
   "source": [
    "work_f=work_f.reset_index()"
   ]
  },
  {
   "cell_type": "code",
   "execution_count": null,
   "id": "81f0e413",
   "metadata": {},
   "outputs": [],
   "source": [
    "work_f=work_f.drop(columns='index')"
   ]
  },
  {
   "cell_type": "code",
   "execution_count": null,
   "id": "86ae6eb2",
   "metadata": {},
   "outputs": [],
   "source": [
    "work_f"
   ]
  },
  {
   "cell_type": "code",
   "execution_count": null,
   "id": "4a5e398e",
   "metadata": {},
   "outputs": [],
   "source": [
    "work_corr"
   ]
  },
  {
   "cell_type": "code",
   "execution_count": null,
   "id": "13d6ab8b",
   "metadata": {},
   "outputs": [],
   "source": [
    "work_corr=work_f[['MethodName','M_Call_Arg','M_D_Name','M_D_Arg','File_Name_y']]"
   ]
  },
  {
   "cell_type": "code",
   "execution_count": null,
   "id": "d1777d9f",
   "metadata": {},
   "outputs": [],
   "source": [
    "work_corr['M_D_Arg1']  = ''\n",
    "work_corr['M_D_Arg2'] = ''"
   ]
  },
  {
   "cell_type": "code",
   "execution_count": null,
   "id": "da7b2877",
   "metadata": {},
   "outputs": [],
   "source": [
    "work_corr['M_Call_Arg1']  = ''\n",
    "work_corr['M_Call_Type1']  = ''\n",
    "work_corr['M_Call_Arg2'] = ''\n",
    "work_corr['M_Call_Type2'] = ''"
   ]
  },
  {
   "cell_type": "code",
   "execution_count": null,
   "id": "7b3915e8",
   "metadata": {},
   "outputs": [],
   "source": [
    "work_corr['M_Call_Arg'].str.split(',')"
   ]
  },
  {
   "cell_type": "code",
   "execution_count": null,
   "id": "2dd000a7",
   "metadata": {
    "scrolled": true
   },
   "outputs": [],
   "source": [
    "for index, row in work_corr.iterrows():\n",
    "    splits = row['M_Call_Arg'].split(',')\n",
    "    splitArg = row['M_D_Arg'].split(',')\n",
    "    length =  len(splits)\n",
    "    print(splitArg)\n",
    "    print(splits)\n",
    "    print(length)\n",
    "    if splitArg[0].strip()  !=  '':\n",
    "        row['M_D_Arg1']  = splitArg[0].strip()\n",
    "    if splitArg[1].strip()  !=  '':\n",
    "        row['M_D_Arg2']  = splitArg[1].strip()\n",
    "        \n",
    "        \n",
    "        \n",
    "    if splits[0].strip()  !=  '':\n",
    "        \n",
    "        arg_1 =  splits[0].split(';')\n",
    "        len1 =   len(arg_1)\n",
    "        \n",
    "        if  len1 >= 1:\n",
    "            row['M_Call_Arg1']  = arg_1[0].strip()\n",
    "        if  len1 >= 2:\n",
    "            row['M_Call_Type1']  = arg_1[1].strip()\n",
    "    \n",
    "    if splits[1].strip()  !=  '':\n",
    "    \n",
    "        arg_2 =  splits[1].split(';')\n",
    "        len2 =   len(arg_2)\n",
    "\n",
    "        if  len2 >= 1:\n",
    "            row['M_Call_Arg2'] = arg_2[0].strip()\n",
    "        if  len2 >= 2:\n",
    "            row['M_Call_Type2'] = arg_2[1].strip()\n",
    "            \n",
    "\n",
    "    \n",
    "    "
   ]
  },
  {
   "cell_type": "code",
   "execution_count": null,
   "id": "d230a77a",
   "metadata": {
    "scrolled": true
   },
   "outputs": [],
   "source": [
    "work_corr"
   ]
  },
  {
   "cell_type": "code",
   "execution_count": null,
   "id": "6ffb8442",
   "metadata": {
    "scrolled": false
   },
   "outputs": [],
   "source": [
    "work_corr[work_corr['M_Call_Arg2'] == '']"
   ]
  },
  {
   "cell_type": "code",
   "execution_count": null,
   "id": "96d5f3e2",
   "metadata": {},
   "outputs": [],
   "source": [
    "work_corr['File_Name_y'][11]"
   ]
  },
  {
   "cell_type": "code",
   "execution_count": null,
   "id": "6733e7c2",
   "metadata": {},
   "outputs": [],
   "source": [
    "frame=[\n",
    "work1,\n",
    "work2,\n",
    "work3,\n",
    "work4,\n",
    "work5,\n",
    "work5_1,\n",
    "work5_11,\n",
    "work5_2,\n",
    "work5_3,\n",
    "work6,\n",
    "work7,\n",
    "work8,\n",
    "work9_13,work14]"
   ]
  },
  {
   "cell_type": "code",
   "execution_count": null,
   "id": "1e78b5c2",
   "metadata": {},
   "outputs": [],
   "source": [
    "alldata=pd.concat(frame)"
   ]
  },
  {
   "cell_type": "code",
   "execution_count": null,
   "id": "f91fef94",
   "metadata": {},
   "outputs": [],
   "source": [
    "alldata[alldata['M_Call_Arg_len']>1]"
   ]
  },
  {
   "cell_type": "code",
   "execution_count": null,
   "id": "65a0e6ff",
   "metadata": {},
   "outputs": [],
   "source": [
    "alldata[['M_Call_Name','M_Call_Arg','File_Name']]"
   ]
  },
  {
   "cell_type": "code",
   "execution_count": null,
   "id": "10bebecb",
   "metadata": {},
   "outputs": [],
   "source": [
    "frame=[work1,work2,work3,work4,work5,work6,work7,work8,work9,work10,work12,work13]"
   ]
  },
  {
   "cell_type": "code",
   "execution_count": null,
   "id": "04dc6cc4",
   "metadata": {},
   "outputs": [],
   "source": [
    "alldata=pd.concat(frame)"
   ]
  },
  {
   "cell_type": "code",
   "execution_count": null,
   "id": "81a0527b",
   "metadata": {},
   "outputs": [],
   "source": [
    "alldata"
   ]
  },
  {
   "cell_type": "code",
   "execution_count": null,
   "id": "7c51c4b2",
   "metadata": {},
   "outputs": [],
   "source": [
    "alldata_swap_no=alldata[alldata['M_D_Arg_len']>1]"
   ]
  },
  {
   "cell_type": "code",
   "execution_count": null,
   "id": "a8811505",
   "metadata": {
    "scrolled": true
   },
   "outputs": [],
   "source": [
    "alldata_swap_no"
   ]
  },
  {
   "cell_type": "code",
   "execution_count": null,
   "id": "24dcc2a3",
   "metadata": {
    "scrolled": true
   },
   "outputs": [],
   "source": [
    "alldata_swap_done  = alldata_swap_no[['MethodName','M_Call_Arg','M_D_Name','M_D_Arg','File_Name_x']]"
   ]
  },
  {
   "cell_type": "code",
   "execution_count": null,
   "id": "07a2d369",
   "metadata": {},
   "outputs": [],
   "source": [
    "alldata_swap_done['M_D_Arg1']  = ''\n",
    "alldata_swap_done['M_D_Arg2'] = ''\n",
    "alldata_swap_done['M_Call_Arg1']  = ''\n",
    "alldata_swap_done['M_Call_Type1']  = ''\n",
    "alldata_swap_done['M_Call_Arg2'] = ''\n",
    "alldata_swap_done['M_Call_Type2'] = ''\n",
    "\n"
   ]
  },
  {
   "cell_type": "code",
   "execution_count": null,
   "id": "72f0997b",
   "metadata": {
    "scrolled": true
   },
   "outputs": [],
   "source": [
    "for index, row in alldata_swap_done.iterrows():\n",
    "    splits = row['M_Call_Arg'].split(',')\n",
    "    splitArg = row['M_D_Arg'].split(',')\n",
    "    length =  len(splits)\n",
    "    print(splitArg)\n",
    "    print(splits)\n",
    "    print(length)\n",
    "    if splitArg[0].strip()  !=  '':\n",
    "        row['M_D_Arg1']  = splitArg[0].strip()\n",
    "    if splitArg[1].strip()  !=  '':\n",
    "        row['M_D_Arg2']  = splitArg[1].strip()\n",
    "        \n",
    "        \n",
    "        \n",
    "    if splits[0].strip()  !=  '':\n",
    "        \n",
    "        arg_1 =  splits[0].split(';')\n",
    "        len1 =   len(arg_1)\n",
    "        \n",
    "        if  len1 >= 1:\n",
    "            row['M_Call_Arg1']  = arg_1[0].strip()\n",
    "        if  len1 >= 2:\n",
    "            row['M_Call_Type1']  = arg_1[1].strip()\n",
    "    \n",
    "    if splits[1].strip()  !=  '':\n",
    "    \n",
    "        arg_2 =  splits[1].split(';')\n",
    "        len2 =   len(arg_2)\n",
    "\n",
    "        if  len2 >= 1:\n",
    "            row['M_Call_Arg2'] = arg_2[0].strip()\n",
    "        if  len2 >= 2:\n",
    "            row['M_Call_Type2'] = arg_2[1].strip()"
   ]
  },
  {
   "cell_type": "code",
   "execution_count": null,
   "id": "83809dc2",
   "metadata": {},
   "outputs": [],
   "source": [
    "alldata_swap_done"
   ]
  },
  {
   "cell_type": "code",
   "execution_count": null,
   "id": "0206a9ce",
   "metadata": {},
   "outputs": [],
   "source": [
    "alldata_swap_done.to_csv('alldata_positive_done.csv')"
   ]
  },
  {
   "cell_type": "code",
   "execution_count": null,
   "id": "93e69f48",
   "metadata": {},
   "outputs": [],
   "source": [
    "alldata_swap_done[alldata_swap_done['M_D_Arg1']=='self']"
   ]
  },
  {
   "cell_type": "code",
   "execution_count": null,
   "id": "0985824d",
   "metadata": {},
   "outputs": [],
   "source": []
  },
  {
   "cell_type": "code",
   "execution_count": null,
   "id": "0a248ffe",
   "metadata": {},
   "outputs": [],
   "source": []
  }
 ],
 "metadata": {
  "kernelspec": {
   "display_name": "Python 3 (ipykernel)",
   "language": "python",
   "name": "python3"
  },
  "language_info": {
   "codemirror_mode": {
    "name": "ipython",
    "version": 3
   },
   "file_extension": ".py",
   "mimetype": "text/x-python",
   "name": "python",
   "nbconvert_exporter": "python",
   "pygments_lexer": "ipython3",
   "version": "3.9.7"
  }
 },
 "nbformat": 4,
 "nbformat_minor": 5
}
