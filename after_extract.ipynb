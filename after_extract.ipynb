{
 "cells": [
  {
   "cell_type": "code",
   "execution_count": null,
   "id": "faa8b467",
   "metadata": {},
   "outputs": [],
   "source": [
    "from gensim.models import KeyedVectors\n",
    "from gensim.test.utils import common_texts\n",
    "from gensim.models import Word2Vec\n",
    "\n",
    "wv = KeyedVectors.load(\"word2vec.model\", mmap='r')"
   ]
  },
  {
   "cell_type": "code",
   "execution_count": null,
   "id": "87e3c85f",
   "metadata": {},
   "outputs": [],
   "source": [
    "def get_vec(xp):\n",
    "    for x in xp:\n",
    "        normed_vector = model.wv.get_vector(x, norm=True)\n",
    "        print(\"Process name:\"+x)\n",
    "        print(normed_vector)"
   ]
  },
  {
   "cell_type": "code",
   "execution_count": null,
   "id": "9c68a432",
   "metadata": {},
   "outputs": [],
   "source": [
    "vocab=list(wv.wv.key_to_index.keys())"
   ]
  },
  {
   "cell_type": "code",
   "execution_count": null,
   "id": "baa48b3d",
   "metadata": {},
   "outputs": [],
   "source": [
    "vocab"
   ]
  },
  {
   "cell_type": "code",
   "execution_count": null,
   "id": "b57b3373",
   "metadata": {},
   "outputs": [],
   "source": [
    "xpp=wv.wv.get_vector('.add_representer')"
   ]
  },
  {
   "cell_type": "code",
   "execution_count": null,
   "id": "e79d3ae0",
   "metadata": {},
   "outputs": [],
   "source": []
  },
  {
   "cell_type": "code",
   "execution_count": null,
   "id": "a3d3e817",
   "metadata": {
    "scrolled": true
   },
   "outputs": [],
   "source": [
    "xpp"
   ]
  },
  {
   "cell_type": "code",
   "execution_count": null,
   "id": "4621d340",
   "metadata": {},
   "outputs": [],
   "source": []
  }
 ],
 "metadata": {
  "kernelspec": {
   "display_name": "Python 3 (ipykernel)",
   "language": "python",
   "name": "python3"
  },
  "language_info": {
   "codemirror_mode": {
    "name": "ipython",
    "version": 3
   },
   "file_extension": ".py",
   "mimetype": "text/x-python",
   "name": "python",
   "nbconvert_exporter": "python",
   "pygments_lexer": "ipython3",
   "version": "3.9.7"
  }
 },
 "nbformat": 4,
 "nbformat_minor": 5
}
